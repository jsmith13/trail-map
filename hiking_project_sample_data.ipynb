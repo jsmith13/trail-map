{
 "cells": [
  {
   "cell_type": "markdown",
   "metadata": {},
   "source": [
    "Collect an initial sample dataset from the database at hikingproject.com"
   ]
  },
  {
   "cell_type": "code",
   "execution_count": 1,
   "metadata": {},
   "outputs": [],
   "source": [
    "# import required libraries\n",
    "import config\n",
    "from requests import get\n",
    "import json\n",
    "import pandas as pd"
   ]
  },
  {
   "cell_type": "code",
   "execution_count": 38,
   "metadata": {},
   "outputs": [],
   "source": [
    "## variables for Hiking Project API call\n",
    "# center of Seattle\n",
    "latitude = 47.6062\n",
    "longitude = -122.3321\n",
    "\n",
    "# maximum distance in miles from which to pull trails\n",
    "radius = 100\n",
    "\n",
    "# maximum number of trails to return\n",
    "max_trails = 500\n",
    "\n",
    "# minimum trail length in miles\n",
    "min_length = 1"
   ]
  },
  {
   "cell_type": "markdown",
   "metadata": {},
   "source": [
    "We're hitting the maximum results returnable by the API with these settings (500). If the data looks workable, then we will have to go back and \"grid search\" the area in smaller chunks."
   ]
  },
  {
   "cell_type": "code",
   "execution_count": 60,
   "metadata": {},
   "outputs": [],
   "source": [
    "## make the API call\n",
    "# build the URL\n",
    "url = \"https://www.hikingproject.com/data/get-trails?key=\" + config.hiking_project_api_key + \n",
    "\"&lat=\" + str(latitude) + \"&lon=\"+ str(longitude) + \"&maxDistance=\" + str(radius) + \"&maxResults=\" + \n",
    "str(max_trails) + \"&minLength=\" + str(min_length)\n",
    "\n",
    "# request data from the API\n",
    "trails = get(url)\n",
    "\n",
    "# build a dictionary from the JSON output\n",
    "trails_dict = trails.json()"
   ]
  },
  {
   "cell_type": "code",
   "execution_count": 63,
   "metadata": {},
   "outputs": [],
   "source": [
    "## export the dataset\n",
    "# export as a JSON object\n",
    "with open(\"sample_trails.json\", \"w\") as file:\n",
    "    json.dump(trails_dict[\"trails\"], file)\n",
    "\n",
    "# convert into a dataframe\n",
    "trails_df = pd.DataFrame(trails_dict[\"trails\"])\n",
    "\n",
    "# export as a csv\n",
    "trails_df.to_csv(\"sample_trails.csv\")"
   ]
  },
  {
   "cell_type": "code",
   "execution_count": null,
   "metadata": {},
   "outputs": [],
   "source": []
  }
 ],
 "metadata": {
  "kernelspec": {
   "display_name": "Python 3",
   "language": "python",
   "name": "python3"
  },
  "language_info": {
   "codemirror_mode": {
    "name": "ipython",
    "version": 3
   },
   "file_extension": ".py",
   "mimetype": "text/x-python",
   "name": "python",
   "nbconvert_exporter": "python",
   "pygments_lexer": "ipython3",
   "version": "3.7.3"
  }
 },
 "nbformat": 4,
 "nbformat_minor": 2
}
