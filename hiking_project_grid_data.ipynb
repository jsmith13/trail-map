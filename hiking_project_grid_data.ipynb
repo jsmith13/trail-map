{
 "cells": [
  {
   "cell_type": "markdown",
   "metadata": {},
   "source": [
    "Pull trails from the database at hikingproject.com using a grid search over the rough Western Washington area."
   ]
  },
  {
   "cell_type": "code",
   "execution_count": 25,
   "metadata": {},
   "outputs": [],
   "source": [
    "# import required libraries\n",
    "import config\n",
    "from requests import get\n",
    "from time import sleep\n",
    "import json\n",
    "import pandas as pd\n",
    "import numpy as np"
   ]
  },
  {
   "cell_type": "code",
   "execution_count": 26,
   "metadata": {},
   "outputs": [],
   "source": [
    "## variables for Hiking Project API call\n",
    "# center of Seattle\n",
    "latitude = 47.6062\n",
    "longitude = -122.3321\n",
    "\n",
    "# maximum distance in miles from which to pull trails\n",
    "radius = 20\n",
    "\n",
    "# maximum number of trails to return\n",
    "max_trails = 500\n",
    "\n",
    "# minimum trail length in miles\n",
    "min_length = 1"
   ]
  },
  {
   "cell_type": "markdown",
   "metadata": {},
   "source": [
    "Latitude and longitude don't scale directly to miles, but I believe that I have divided the ranges into small enough circles for the radius of 20 miles to cover the area."
   ]
  },
  {
   "cell_type": "code",
   "execution_count": 27,
   "metadata": {},
   "outputs": [],
   "source": [
    "## define a region to search over in terms of latitude and longitude\n",
    "# longitude and latitude ranges\n",
    "latitude = np.linspace(46, 49, 25)\n",
    "longitude = np.linspace(-124, -120, 35)\n",
    "\n",
    "# expand to a grid of tuples\n",
    "coordinates = np.array([(lat, lon) for lat in latitude for lon in longitude])"
   ]
  },
  {
   "cell_type": "code",
   "execution_count": 31,
   "metadata": {},
   "outputs": [],
   "source": [
    "## make the API calls\n",
    "# declare an empty dataframe to hold the results\n",
    "trails_df = pd.DataFrame()\n",
    "\n",
    "# loop through the coordinates grid\n",
    "for i in range(0, coordinates.shape[0], 1):\n",
    "    # build the URL\n",
    "    url = \"https://www.hikingproject.com/data/get-trails?key=\" + config.hiking_project_api_key + \n",
    "    \"&lat=\" + str(coordinates[i][0]) + \"&lon=\"+ str(coordinates[i][1]) + \"&maxDistance=\" + str(radius) + \n",
    "    \"&maxResults=\" + str(max_trails) + \"&minLength=\" + str(min_length)\n",
    "\n",
    "    # pause for a second\n",
    "    sleep(1)\n",
    "    \n",
    "    # request data from the API\n",
    "    trails = get(url)\n",
    "\n",
    "    # build a dataframe from the JSON output\n",
    "    trails_dict = trails.json()\n",
    "    intermediate_df = pd.DataFrame(trails_dict[\"trails\"])\n",
    "    \n",
    "    # append the intermediate dataframe to the existing results\n",
    "    trails_df = pd.concat([trails_df, intermediate_df], ignore_index = \"true\")\n",
    "    \n",
    "# drop duplicates from the dataframe\n",
    "trails_df.drop_duplicates(inplace = True)"
   ]
  },
  {
   "cell_type": "code",
   "execution_count": 32,
   "metadata": {},
   "outputs": [],
   "source": [
    "# export the dataset as a csv\n",
    "trails_df.to_csv(\"NWtrails.csv\")"
   ]
  }
 ],
 "metadata": {
  "kernelspec": {
   "display_name": "Python 3",
   "language": "python",
   "name": "python3"
  },
  "language_info": {
   "codemirror_mode": {
    "name": "ipython",
    "version": 3
   },
   "file_extension": ".py",
   "mimetype": "text/x-python",
   "name": "python",
   "nbconvert_exporter": "python",
   "pygments_lexer": "ipython3",
   "version": "3.7.3"
  }
 },
 "nbformat": 4,
 "nbformat_minor": 2
}
